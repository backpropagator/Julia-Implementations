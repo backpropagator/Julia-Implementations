{
 "cells": [
  {
   "cell_type": "markdown",
   "metadata": {},
   "source": [
    "# Intermediate Problems"
   ]
  },
  {
   "cell_type": "markdown",
   "metadata": {},
   "source": [
    "## MyRange and LinSpace Problem"
   ]
  },
  {
   "cell_type": "markdown",
   "metadata": {},
   "source": [
    "###### Part 1\n",
    "\n",
    "Let's create our own implementation of the range type. The `Range` type is what you get from `1:2:20`. It's form is `start:step:stop`. If you know `start`, `step`, and `stop`, how do you calculate the `i`th value? Create a type `MyRange` which stores `start`, `step`, and `stop`. Can you create a function `_MyRange(a,i)` which for `a` being a `MyRange`, it returns what `a[i]` should be? After getting this correct, use the [Julia array interface](https://docs.julialang.org/en/stable/manual/interfaces/#Indexing-1) in order to define the function for the `a[i]` syntax on your type."
   ]
  },
  {
   "cell_type": "code",
   "execution_count": 3,
   "metadata": {},
   "outputs": [
    {
     "data": {
      "text/plain": [
       "_MyRange (generic function with 1 method)"
      ]
     },
     "execution_count": 3,
     "metadata": {},
     "output_type": "execute_result"
    }
   ],
   "source": [
    "struct MyRange\n",
    "    start\n",
    "    step\n",
    "    stop\n",
    "end\n",
    "\n",
    "function _MyRange(a::MyRange, i::Int)\n",
    "    ans = a.start + (a.step)*(i-1)\n",
    "    if ans > a.stop\n",
    "        error(\"Index out of Range\")\n",
    "    else\n",
    "        return ans\n",
    "    end        \n",
    "end"
   ]
  },
  {
   "cell_type": "code",
   "execution_count": 5,
   "metadata": {},
   "outputs": [
    {
     "data": {
      "text/plain": [
       "17"
      ]
     },
     "execution_count": 5,
     "metadata": {},
     "output_type": "execute_result"
    }
   ],
   "source": [
    "_MyRange(MyRange(2,5,20),4)"
   ]
  },
  {
   "cell_type": "markdown",
   "metadata": {},
   "source": [
    "######  Part 2\n",
    "\n",
    "A LinSpace object is a lazy representation of `N` values from `start` to `stop`. Use the Array interface to implement a lazy version of the LinSpace. Test against `range(start,stop=stop,length=N)`.\n",
    "\n",
    "http://ucidatascienceinitiative.github.io/IntroToJulia/Html/ArrayIteratorInterfaces\n",
    "\n",
    "(Note, Base's range type has extra accuracy enhancing changes. Just do the \"simple\" implementation\")"
   ]
  },
  {
   "cell_type": "code",
   "execution_count": 9,
   "metadata": {},
   "outputs": [
    {
     "data": {
      "text/plain": [
       "_Mylinspace (generic function with 1 method)"
      ]
     },
     "execution_count": 9,
     "metadata": {},
     "output_type": "execute_result"
    }
   ],
   "source": [
    "struct Mylinspace\n",
    "    start\n",
    "    stop\n",
    "    length\n",
    "end\n",
    "\n",
    "function _Mylinspace(a::Mylinspace, i::Int)\n",
    "    diff = (a.stop - a.start)/a.length\n",
    "    ans = a.start + (i-1)*diff\n",
    "    return ans\n",
    "end"
   ]
  },
  {
   "cell_type": "code",
   "execution_count": 10,
   "metadata": {},
   "outputs": [
    {
     "name": "stdout",
     "output_type": "stream",
     "text": [
      "_Mylinspace(Mylinspace(1, 20, 100), 30) = 6.51\n",
      "(range(1, stop=20, length=100))[30] = 6.565656565656566\n"
     ]
    }
   ],
   "source": [
    "@show _Mylinspace(Mylinspace(1,20,100), 30)\n",
    "@show range(1,stop=20,length=100)[30];"
   ]
  },
  {
   "cell_type": "markdown",
   "metadata": {},
   "source": [
    "##### Part 3\n",
    "\n",
    "Check out the call overloading notebook:\n",
    "\n",
    "http://ucidatascienceinitiative.github.io/IntroToJulia/Html/CallOverloading\n",
    "\n",
    "Overload the call on the UnitStepRange to give an interpolated value at intermediate points, i.e. if `a=1:2:10`, then `a(1.5)=2`."
   ]
  },
  {
   "cell_type": "code",
   "execution_count": 14,
   "metadata": {},
   "outputs": [],
   "source": [
    "(c::MyRange)(i::Float64) = (c.start + c.step * (i-1))"
   ]
  },
  {
   "cell_type": "code",
   "execution_count": 15,
   "metadata": {},
   "outputs": [
    {
     "data": {
      "text/plain": [
       "2.0"
      ]
     },
     "execution_count": 15,
     "metadata": {},
     "output_type": "execute_result"
    }
   ],
   "source": [
    "r = MyRange(1,2,10)\n",
    "r(1.5)"
   ]
  },
  {
   "cell_type": "markdown",
   "metadata": {},
   "source": [
    "## Regression Problem\n",
    "\n",
    "\n",
    "```julia\n",
    "#### Prepare Data For Regression Problem\n",
    "\n",
    "X = rand(1000, 3)               # feature matrix\n",
    "a0 = rand(3)                    # ground truths\n",
    "y = X * a0 + 0.1 * randn(1000);  # generate response\n",
    "\n",
    "# Data For Regression Problem Part 2\n",
    "X = rand(100);\n",
    "y = 2X  + 0.1 * randn(100);\n",
    "```\n",
    "\n",
    "Given an Nx3 array of data (`randn(N,3)`) and a Nx1 array of outcomes, produce the data matrix `X` which appends a column of 1's to the front of the data matrix, and solve for the 4x1 array `β` via `βX = b` using `qrfact`, or `\\`, or [the definition of the OLS estimator](https://en.wikipedia.org/wiki/Ordinary_least_squares#Estimation). (Note: This is linear regression).\n",
    "\n",
    "Compare your results to that of using `llsq` from `MultivariateStats.jl` (note: you need to go find the documentation to find out how to use this!). Compare your results to that of using ordinary least squares regression from `GLM.jl`."
   ]
  },
  {
   "cell_type": "code",
   "execution_count": 17,
   "metadata": {},
   "outputs": [],
   "source": [
    "#### Prepare Data For Regression Problem\n",
    "\n",
    "X = rand(1000, 3)               # feature matrix\n",
    "a0 = rand(3)                    # ground truths\n",
    "y = X * a0 + 0.1 * randn(1000);  # generate response"
   ]
  },
  {
   "cell_type": "code",
   "execution_count": 31,
   "metadata": {},
   "outputs": [
    {
     "name": "stdout",
     "output_type": "stream",
     "text": [
      "Actual:[0.357679, 0.863759, 0.510622] \n",
      "Calculated: [0.351879, 0.867535, 0.523324]\n"
     ]
    }
   ],
   "source": [
    "_X = hcat(X,ones(1000))\n",
    "\n",
    "β = _X\\y\n",
    "println(\"Actual:$a0 \")\n",
    "println(\"Calculated: $(β[1:3])\")\n"
   ]
  },
  {
   "cell_type": "markdown",
   "metadata": {},
   "source": [
    "#### Regression Problem Part 2\n",
    "\n",
    "Using your OLS estimator or one of the aforementioned packages, solve for the regression line using the (X,y) data above. Plot the (X,y) scatter plot using `scatter!` from Plots.jl. Add the regression line using `abline!`. Add a title saying \"Regression Plot on Fake Data\", and label the x and y axis."
   ]
  },
  {
   "cell_type": "code",
   "execution_count": 32,
   "metadata": {},
   "outputs": [],
   "source": [
    "# Data For Regression Problem Part 2\n",
    "X = rand(100);\n",
    "y = 2X  + 0.1 * randn(100);"
   ]
  },
  {
   "cell_type": "code",
   "execution_count": 35,
   "metadata": {},
   "outputs": [
    {
     "name": "stdout",
     "output_type": "stream",
     "text": [
      "β = X \\ y = 2.0196208903196835\n"
     ]
    },
    {
     "data": {
      "image/svg+xml": [
       "<?xml version=\"1.0\" encoding=\"utf-8\"?>\n",
       "<svg xmlns=\"http://www.w3.org/2000/svg\" xmlns:xlink=\"http://www.w3.org/1999/xlink\" width=\"600\" height=\"400\" viewBox=\"0 0 2400 1600\">\n",
       "<defs>\n",
       "  <clipPath id=\"clip970\">\n",
       "    <rect x=\"0\" y=\"0\" width=\"2400\" height=\"1600\"/>\n",
       "  </clipPath>\n",
       "</defs>\n",
       "<path clip-path=\"url(#clip970)\" d=\"\n",
       "M0 1600 L2400 1600 L2400 8.88178e-14 L0 8.88178e-14  Z\n",
       "  \" fill=\"#ffffff\" fill-rule=\"evenodd\" fill-opacity=\"1\"/>\n",
       "<defs>\n",
       "  <clipPath id=\"clip971\">\n",
       "    <rect x=\"480\" y=\"0\" width=\"1681\" height=\"1600\"/>\n",
       "  </clipPath>\n",
       "</defs>\n",
       "<path clip-path=\"url(#clip970)\" d=\"\n",
       "M147.848 1486.45 L2352.76 1486.45 L2352.76 47.2441 L147.848 47.2441  Z\n",
       "  \" fill=\"#ffffff\" fill-rule=\"evenodd\" fill-opacity=\"1\"/>\n",
       "<defs>\n",
       "  <clipPath id=\"clip972\">\n",
       "    <rect x=\"147\" y=\"47\" width=\"2206\" height=\"1440\"/>\n",
       "  </clipPath>\n",
       "</defs>\n",
       "<polyline clip-path=\"url(#clip972)\" style=\"stroke:#000000; stroke-width:2; stroke-opacity:0.1; fill:none\" points=\"\n",
       "  205.228,1486.45 205.228,47.2441 \n",
       "  \"/>\n",
       "<polyline clip-path=\"url(#clip972)\" style=\"stroke:#000000; stroke-width:2; stroke-opacity:0.1; fill:none\" points=\"\n",
       "  728.841,1486.45 728.841,47.2441 \n",
       "  \"/>\n",
       "<polyline clip-path=\"url(#clip972)\" style=\"stroke:#000000; stroke-width:2; stroke-opacity:0.1; fill:none\" points=\"\n",
       "  1252.45,1486.45 1252.45,47.2441 \n",
       "  \"/>\n",
       "<polyline clip-path=\"url(#clip972)\" style=\"stroke:#000000; stroke-width:2; stroke-opacity:0.1; fill:none\" points=\"\n",
       "  1776.07,1486.45 1776.07,47.2441 \n",
       "  \"/>\n",
       "<polyline clip-path=\"url(#clip972)\" style=\"stroke:#000000; stroke-width:2; stroke-opacity:0.1; fill:none\" points=\"\n",
       "  2299.68,1486.45 2299.68,47.2441 \n",
       "  \"/>\n",
       "<polyline clip-path=\"url(#clip972)\" style=\"stroke:#000000; stroke-width:2; stroke-opacity:0.1; fill:none\" points=\"\n",
       "  147.848,1377.85 2352.76,1377.85 \n",
       "  \"/>\n",
       "<polyline clip-path=\"url(#clip972)\" style=\"stroke:#000000; stroke-width:2; stroke-opacity:0.1; fill:none\" points=\"\n",
       "  147.848,1072.89 2352.76,1072.89 \n",
       "  \"/>\n",
       "<polyline clip-path=\"url(#clip972)\" style=\"stroke:#000000; stroke-width:2; stroke-opacity:0.1; fill:none\" points=\"\n",
       "  147.848,767.922 2352.76,767.922 \n",
       "  \"/>\n",
       "<polyline clip-path=\"url(#clip972)\" style=\"stroke:#000000; stroke-width:2; stroke-opacity:0.1; fill:none\" points=\"\n",
       "  147.848,462.959 2352.76,462.959 \n",
       "  \"/>\n",
       "<polyline clip-path=\"url(#clip972)\" style=\"stroke:#000000; stroke-width:2; stroke-opacity:0.1; fill:none\" points=\"\n",
       "  147.848,157.996 2352.76,157.996 \n",
       "  \"/>\n",
       "<polyline clip-path=\"url(#clip970)\" style=\"stroke:#000000; stroke-width:4; stroke-opacity:1; fill:none\" points=\"\n",
       "  147.848,1486.45 2352.76,1486.45 \n",
       "  \"/>\n",
       "<polyline clip-path=\"url(#clip970)\" style=\"stroke:#000000; stroke-width:4; stroke-opacity:1; fill:none\" points=\"\n",
       "  147.848,1486.45 147.848,47.2441 \n",
       "  \"/>\n",
       "<polyline clip-path=\"url(#clip970)\" style=\"stroke:#000000; stroke-width:4; stroke-opacity:1; fill:none\" points=\"\n",
       "  205.228,1486.45 205.228,1469.18 \n",
       "  \"/>\n",
       "<polyline clip-path=\"url(#clip970)\" style=\"stroke:#000000; stroke-width:4; stroke-opacity:1; fill:none\" points=\"\n",
       "  728.841,1486.45 728.841,1469.18 \n",
       "  \"/>\n",
       "<polyline clip-path=\"url(#clip970)\" style=\"stroke:#000000; stroke-width:4; stroke-opacity:1; fill:none\" points=\"\n",
       "  1252.45,1486.45 1252.45,1469.18 \n",
       "  \"/>\n",
       "<polyline clip-path=\"url(#clip970)\" style=\"stroke:#000000; stroke-width:4; stroke-opacity:1; fill:none\" points=\"\n",
       "  1776.07,1486.45 1776.07,1469.18 \n",
       "  \"/>\n",
       "<polyline clip-path=\"url(#clip970)\" style=\"stroke:#000000; stroke-width:4; stroke-opacity:1; fill:none\" points=\"\n",
       "  2299.68,1486.45 2299.68,1469.18 \n",
       "  \"/>\n",
       "<polyline clip-path=\"url(#clip970)\" style=\"stroke:#000000; stroke-width:4; stroke-opacity:1; fill:none\" points=\"\n",
       "  147.848,1377.85 174.307,1377.85 \n",
       "  \"/>\n",
       "<polyline clip-path=\"url(#clip970)\" style=\"stroke:#000000; stroke-width:4; stroke-opacity:1; fill:none\" points=\"\n",
       "  147.848,1072.89 174.307,1072.89 \n",
       "  \"/>\n",
       "<polyline clip-path=\"url(#clip970)\" style=\"stroke:#000000; stroke-width:4; stroke-opacity:1; fill:none\" points=\"\n",
       "  147.848,767.922 174.307,767.922 \n",
       "  \"/>\n",
       "<polyline clip-path=\"url(#clip970)\" style=\"stroke:#000000; stroke-width:4; stroke-opacity:1; fill:none\" points=\"\n",
       "  147.848,462.959 174.307,462.959 \n",
       "  \"/>\n",
       "<polyline clip-path=\"url(#clip970)\" style=\"stroke:#000000; stroke-width:4; stroke-opacity:1; fill:none\" points=\"\n",
       "  147.848,157.996 174.307,157.996 \n",
       "  \"/>\n",
       "<path clip-path=\"url(#clip970)\" d=\"M 0 0 M173.238 1508.44 Q169.627 1508.44 167.798 1512 Q165.992 1515.55 165.992 1522.67 Q165.992 1529.78 167.798 1533.35 Q169.627 1536.89 173.238 1536.89 Q176.872 1536.89 178.677 1533.35 Q180.506 1529.78 180.506 1522.67 Q180.506 1515.55 178.677 1512 Q176.872 1508.44 173.238 1508.44 M173.238 1504.73 Q179.048 1504.73 182.103 1509.34 Q185.182 1513.92 185.182 1522.67 Q185.182 1531.4 182.103 1536.01 Q179.048 1540.59 173.238 1540.59 Q167.428 1540.59 164.349 1536.01 Q161.293 1531.4 161.293 1522.67 Q161.293 1513.92 164.349 1509.34 Q167.428 1504.73 173.238 1504.73 Z\" fill=\"#000000\" fill-rule=\"evenodd\" fill-opacity=\"1\" /><path clip-path=\"url(#clip970)\" d=\"M 0 0 M190.251 1534.04 L195.136 1534.04 L195.136 1539.92 L190.251 1539.92 L190.251 1534.04 Z\" fill=\"#000000\" fill-rule=\"evenodd\" fill-opacity=\"1\" /><path clip-path=\"url(#clip970)\" d=\"M 0 0 M210.205 1508.44 Q206.594 1508.44 204.765 1512 Q202.96 1515.55 202.96 1522.67 Q202.96 1529.78 204.765 1533.35 Q206.594 1536.89 210.205 1536.89 Q213.839 1536.89 215.645 1533.35 Q217.474 1529.78 217.474 1522.67 Q217.474 1515.55 215.645 1512 Q213.839 1508.44 210.205 1508.44 M210.205 1504.73 Q216.015 1504.73 219.071 1509.34 Q222.149 1513.92 222.149 1522.67 Q222.149 1531.4 219.071 1536.01 Q216.015 1540.59 210.205 1540.59 Q204.395 1540.59 201.316 1536.01 Q198.261 1531.4 198.261 1522.67 Q198.261 1513.92 201.316 1509.34 Q204.395 1504.73 210.205 1504.73 Z\" fill=\"#000000\" fill-rule=\"evenodd\" fill-opacity=\"1\" /><path clip-path=\"url(#clip970)\" d=\"M 0 0 M237.219 1508.44 Q233.608 1508.44 231.779 1512 Q229.974 1515.55 229.974 1522.67 Q229.974 1529.78 231.779 1533.35 Q233.608 1536.89 237.219 1536.89 Q240.853 1536.89 242.659 1533.35 Q244.487 1529.78 244.487 1522.67 Q244.487 1515.55 242.659 1512 Q240.853 1508.44 237.219 1508.44 M237.219 1504.73 Q243.029 1504.73 246.085 1509.34 Q249.163 1513.92 249.163 1522.67 Q249.163 1531.4 246.085 1536.01 Q243.029 1540.59 237.219 1540.59 Q231.409 1540.59 228.33 1536.01 Q225.274 1531.4 225.274 1522.67 Q225.274 1513.92 228.33 1509.34 Q231.409 1504.73 237.219 1504.73 Z\" fill=\"#000000\" fill-rule=\"evenodd\" fill-opacity=\"1\" /><path clip-path=\"url(#clip970)\" d=\"M 0 0 M698.147 1508.44 Q694.536 1508.44 692.707 1512 Q690.902 1515.55 690.902 1522.67 Q690.902 1529.78 692.707 1533.35 Q694.536 1536.89 698.147 1536.89 Q701.781 1536.89 703.587 1533.35 Q705.415 1529.78 705.415 1522.67 Q705.415 1515.55 703.587 1512 Q701.781 1508.44 698.147 1508.44 M698.147 1504.73 Q703.957 1504.73 707.013 1509.34 Q710.091 1513.92 710.091 1522.67 Q710.091 1531.4 707.013 1536.01 Q703.957 1540.59 698.147 1540.59 Q692.337 1540.59 689.258 1536.01 Q686.203 1531.4 686.203 1522.67 Q686.203 1513.92 689.258 1509.34 Q692.337 1504.73 698.147 1504.73 Z\" fill=\"#000000\" fill-rule=\"evenodd\" fill-opacity=\"1\" /><path clip-path=\"url(#clip970)\" d=\"M 0 0 M715.161 1534.04 L720.045 1534.04 L720.045 1539.92 L715.161 1539.92 L715.161 1534.04 Z\" fill=\"#000000\" fill-rule=\"evenodd\" fill-opacity=\"1\" /><path clip-path=\"url(#clip970)\" d=\"M 0 0 M729.142 1535.98 L745.462 1535.98 L745.462 1539.92 L723.517 1539.92 L723.517 1535.98 Q726.179 1533.23 730.763 1528.6 Q735.369 1523.95 736.55 1522.61 Q738.795 1520.08 739.675 1518.35 Q740.577 1516.59 740.577 1514.9 Q740.577 1512.14 738.633 1510.41 Q736.712 1508.67 733.61 1508.67 Q731.411 1508.67 728.957 1509.43 Q726.526 1510.2 723.749 1511.75 L723.749 1507.03 Q726.573 1505.89 729.026 1505.31 Q731.48 1504.73 733.517 1504.73 Q738.888 1504.73 742.082 1507.42 Q745.276 1510.11 745.276 1514.6 Q745.276 1516.73 744.466 1518.65 Q743.679 1520.54 741.573 1523.14 Q740.994 1523.81 737.892 1527.03 Q734.79 1530.22 729.142 1535.98 Z\" fill=\"#000000\" fill-rule=\"evenodd\" fill-opacity=\"1\" /><path clip-path=\"url(#clip970)\" d=\"M 0 0 M750.577 1505.36 L768.934 1505.36 L768.934 1509.3 L754.86 1509.3 L754.86 1517.77 Q755.878 1517.42 756.897 1517.26 Q757.915 1517.07 758.934 1517.07 Q764.721 1517.07 768.1 1520.24 Q771.48 1523.42 771.48 1528.83 Q771.48 1534.41 768.008 1537.51 Q764.536 1540.59 758.216 1540.59 Q756.04 1540.59 753.772 1540.22 Q751.526 1539.85 749.119 1539.11 L749.119 1534.41 Q751.202 1535.54 753.424 1536.1 Q755.647 1536.66 758.124 1536.66 Q762.128 1536.66 764.466 1534.55 Q766.804 1532.44 766.804 1528.83 Q766.804 1525.22 764.466 1523.11 Q762.128 1521.01 758.124 1521.01 Q756.249 1521.01 754.374 1521.42 Q752.522 1521.84 750.577 1522.72 L750.577 1505.36 Z\" fill=\"#000000\" fill-rule=\"evenodd\" fill-opacity=\"1\" /><path clip-path=\"url(#clip970)\" d=\"M 0 0 M1220.96 1508.44 Q1217.35 1508.44 1215.52 1512 Q1213.72 1515.55 1213.72 1522.67 Q1213.72 1529.78 1215.52 1533.35 Q1217.35 1536.89 1220.96 1536.89 Q1224.6 1536.89 1226.4 1533.35 Q1228.23 1529.78 1228.23 1522.67 Q1228.23 1515.55 1226.4 1512 Q1224.6 1508.44 1220.96 1508.44 M1220.96 1504.73 Q1226.77 1504.73 1229.83 1509.34 Q1232.91 1513.92 1232.91 1522.67 Q1232.91 1531.4 1229.83 1536.01 Q1226.77 1540.59 1220.96 1540.59 Q1215.15 1540.59 1212.07 1536.01 Q1209.02 1531.4 1209.02 1522.67 Q1209.02 1513.92 1212.07 1509.34 Q1215.15 1504.73 1220.96 1504.73 Z\" fill=\"#000000\" fill-rule=\"evenodd\" fill-opacity=\"1\" /><path clip-path=\"url(#clip970)\" d=\"M 0 0 M1237.98 1534.04 L1242.86 1534.04 L1242.86 1539.92 L1237.98 1539.92 L1237.98 1534.04 Z\" fill=\"#000000\" fill-rule=\"evenodd\" fill-opacity=\"1\" /><path clip-path=\"url(#clip970)\" d=\"M 0 0 M1247.98 1505.36 L1266.33 1505.36 L1266.33 1509.3 L1252.26 1509.3 L1252.26 1517.77 Q1253.28 1517.42 1254.29 1517.26 Q1255.31 1517.07 1256.33 1517.07 Q1262.12 1517.07 1265.5 1520.24 Q1268.88 1523.42 1268.88 1528.83 Q1268.88 1534.41 1265.41 1537.51 Q1261.93 1540.59 1255.61 1540.59 Q1253.44 1540.59 1251.17 1540.22 Q1248.92 1539.85 1246.52 1539.11 L1246.52 1534.41 Q1248.6 1535.54 1250.82 1536.1 Q1253.04 1536.66 1255.52 1536.66 Q1259.53 1536.66 1261.86 1534.55 Q1264.2 1532.44 1264.2 1528.83 Q1264.2 1525.22 1261.86 1523.11 Q1259.53 1521.01 1255.52 1521.01 Q1253.65 1521.01 1251.77 1521.42 Q1249.92 1521.84 1247.98 1522.72 L1247.98 1505.36 Z\" fill=\"#000000\" fill-rule=\"evenodd\" fill-opacity=\"1\" /><path clip-path=\"url(#clip970)\" d=\"M 0 0 M1283.95 1508.44 Q1280.34 1508.44 1278.51 1512 Q1276.7 1515.55 1276.7 1522.67 Q1276.7 1529.78 1278.51 1533.35 Q1280.34 1536.89 1283.95 1536.89 Q1287.58 1536.89 1289.39 1533.35 Q1291.22 1529.78 1291.22 1522.67 Q1291.22 1515.55 1289.39 1512 Q1287.58 1508.44 1283.95 1508.44 M1283.95 1504.73 Q1289.76 1504.73 1292.81 1509.34 Q1295.89 1513.92 1295.89 1522.67 Q1295.89 1531.4 1292.81 1536.01 Q1289.76 1540.59 1283.95 1540.59 Q1278.14 1540.59 1275.06 1536.01 Q1272 1531.4 1272 1522.67 Q1272 1513.92 1275.06 1509.34 Q1278.14 1504.73 1283.95 1504.73 Z\" fill=\"#000000\" fill-rule=\"evenodd\" fill-opacity=\"1\" /><path clip-path=\"url(#clip970)\" d=\"M 0 0 M1745.03 1508.44 Q1741.41 1508.44 1739.59 1512 Q1737.78 1515.55 1737.78 1522.67 Q1737.78 1529.78 1739.59 1533.35 Q1741.41 1536.89 1745.03 1536.89 Q1748.66 1536.89 1750.47 1533.35 Q1752.29 1529.78 1752.29 1522.67 Q1752.29 1515.55 1750.47 1512 Q1748.66 1508.44 1745.03 1508.44 M1745.03 1504.73 Q1750.84 1504.73 1753.89 1509.34 Q1756.97 1513.92 1756.97 1522.67 Q1756.97 1531.4 1753.89 1536.01 Q1750.84 1540.59 1745.03 1540.59 Q1739.22 1540.59 1736.14 1536.01 Q1733.08 1531.4 1733.08 1522.67 Q1733.08 1513.92 1736.14 1509.34 Q1739.22 1504.73 1745.03 1504.73 Z\" fill=\"#000000\" fill-rule=\"evenodd\" fill-opacity=\"1\" /><path clip-path=\"url(#clip970)\" d=\"M 0 0 M1762.04 1534.04 L1766.92 1534.04 L1766.92 1539.92 L1762.04 1539.92 L1762.04 1534.04 Z\" fill=\"#000000\" fill-rule=\"evenodd\" fill-opacity=\"1\" /><path clip-path=\"url(#clip970)\" d=\"M 0 0 M1770.81 1505.36 L1793.03 1505.36 L1793.03 1507.35 L1780.49 1539.92 L1775.6 1539.92 L1787.41 1509.3 L1770.81 1509.3 L1770.81 1505.36 Z\" fill=\"#000000\" fill-rule=\"evenodd\" fill-opacity=\"1\" /><path clip-path=\"url(#clip970)\" d=\"M 0 0 M1798.15 1505.36 L1816.51 1505.36 L1816.51 1509.3 L1802.43 1509.3 L1802.43 1517.77 Q1803.45 1517.42 1804.47 1517.26 Q1805.49 1517.07 1806.51 1517.07 Q1812.29 1517.07 1815.67 1520.24 Q1819.05 1523.42 1819.05 1528.83 Q1819.05 1534.41 1815.58 1537.51 Q1812.11 1540.59 1805.79 1540.59 Q1803.61 1540.59 1801.34 1540.22 Q1799.1 1539.85 1796.69 1539.11 L1796.69 1534.41 Q1798.78 1535.54 1801 1536.1 Q1803.22 1536.66 1805.7 1536.66 Q1809.7 1536.66 1812.04 1534.55 Q1814.38 1532.44 1814.38 1528.83 Q1814.38 1525.22 1812.04 1523.11 Q1809.7 1521.01 1805.7 1521.01 Q1803.82 1521.01 1801.95 1521.42 Q1800.09 1521.84 1798.15 1522.72 L1798.15 1505.36 Z\" fill=\"#000000\" fill-rule=\"evenodd\" fill-opacity=\"1\" /><path clip-path=\"url(#clip970)\" d=\"M 0 0 M2258.07 1535.98 L2265.71 1535.98 L2265.71 1509.62 L2257.4 1511.29 L2257.4 1507.03 L2265.66 1505.36 L2270.34 1505.36 L2270.34 1535.98 L2277.98 1535.98 L2277.98 1539.92 L2258.07 1539.92 L2258.07 1535.98 Z\" fill=\"#000000\" fill-rule=\"evenodd\" fill-opacity=\"1\" /><path clip-path=\"url(#clip970)\" d=\"M 0 0 M2283.05 1534.04 L2287.93 1534.04 L2287.93 1539.92 L2283.05 1539.92 L2283.05 1534.04 Z\" fill=\"#000000\" fill-rule=\"evenodd\" fill-opacity=\"1\" /><path clip-path=\"url(#clip970)\" d=\"M 0 0 M2303 1508.44 Q2299.39 1508.44 2297.56 1512 Q2295.76 1515.55 2295.76 1522.67 Q2295.76 1529.78 2297.56 1533.35 Q2299.39 1536.89 2303 1536.89 Q2306.64 1536.89 2308.44 1533.35 Q2310.27 1529.78 2310.27 1522.67 Q2310.27 1515.55 2308.44 1512 Q2306.64 1508.44 2303 1508.44 M2303 1504.73 Q2308.81 1504.73 2311.87 1509.34 Q2314.95 1513.92 2314.95 1522.67 Q2314.95 1531.4 2311.87 1536.01 Q2308.81 1540.59 2303 1540.59 Q2297.19 1540.59 2294.11 1536.01 Q2291.06 1531.4 2291.06 1522.67 Q2291.06 1513.92 2294.11 1509.34 Q2297.19 1504.73 2303 1504.73 Z\" fill=\"#000000\" fill-rule=\"evenodd\" fill-opacity=\"1\" /><path clip-path=\"url(#clip970)\" d=\"M 0 0 M2330.02 1508.44 Q2326.4 1508.44 2324.58 1512 Q2322.77 1515.55 2322.77 1522.67 Q2322.77 1529.78 2324.58 1533.35 Q2326.4 1536.89 2330.02 1536.89 Q2333.65 1536.89 2335.46 1533.35 Q2337.28 1529.78 2337.28 1522.67 Q2337.28 1515.55 2335.46 1512 Q2333.65 1508.44 2330.02 1508.44 M2330.02 1504.73 Q2335.83 1504.73 2338.88 1509.34 Q2341.96 1513.92 2341.96 1522.67 Q2341.96 1531.4 2338.88 1536.01 Q2335.83 1540.59 2330.02 1540.59 Q2324.21 1540.59 2321.13 1536.01 Q2318.07 1531.4 2318.07 1522.67 Q2318.07 1513.92 2321.13 1509.34 Q2324.21 1504.73 2330.02 1504.73 Z\" fill=\"#000000\" fill-rule=\"evenodd\" fill-opacity=\"1\" /><path clip-path=\"url(#clip970)\" d=\"M 0 0 M74.9365 1363.65 Q71.3254 1363.65 69.4967 1367.21 Q67.6912 1370.75 67.6912 1377.88 Q67.6912 1384.99 69.4967 1388.55 Q71.3254 1392.1 74.9365 1392.1 Q78.5707 1392.1 80.3763 1388.55 Q82.205 1384.99 82.205 1377.88 Q82.205 1370.75 80.3763 1367.21 Q78.5707 1363.65 74.9365 1363.65 M74.9365 1359.94 Q80.7467 1359.94 83.8022 1364.55 Q86.8809 1369.13 86.8809 1377.88 Q86.8809 1386.61 83.8022 1391.22 Q80.7467 1395.8 74.9365 1395.8 Q69.1264 1395.8 66.0477 1391.22 Q62.9921 1386.61 62.9921 1377.88 Q62.9921 1369.13 66.0477 1364.55 Q69.1264 1359.94 74.9365 1359.94 Z\" fill=\"#000000\" fill-rule=\"evenodd\" fill-opacity=\"1\" /><path clip-path=\"url(#clip970)\" d=\"M 0 0 M91.9503 1389.25 L96.8345 1389.25 L96.8345 1395.13 L91.9503 1395.13 L91.9503 1389.25 Z\" fill=\"#000000\" fill-rule=\"evenodd\" fill-opacity=\"1\" /><path clip-path=\"url(#clip970)\" d=\"M 0 0 M111.904 1363.65 Q108.293 1363.65 106.464 1367.21 Q104.659 1370.75 104.659 1377.88 Q104.659 1384.99 106.464 1388.55 Q108.293 1392.1 111.904 1392.1 Q115.538 1392.1 117.344 1388.55 Q119.172 1384.99 119.172 1377.88 Q119.172 1370.75 117.344 1367.21 Q115.538 1363.65 111.904 1363.65 M111.904 1359.94 Q117.714 1359.94 120.77 1364.55 Q123.848 1369.13 123.848 1377.88 Q123.848 1386.61 120.77 1391.22 Q117.714 1395.8 111.904 1395.8 Q106.094 1395.8 103.015 1391.22 Q99.9595 1386.61 99.9595 1377.88 Q99.9595 1369.13 103.015 1364.55 Q106.094 1359.94 111.904 1359.94 Z\" fill=\"#000000\" fill-rule=\"evenodd\" fill-opacity=\"1\" /><path clip-path=\"url(#clip970)\" d=\"M 0 0 M75.9319 1058.68 Q72.3208 1058.68 70.4921 1062.25 Q68.6865 1065.79 68.6865 1072.92 Q68.6865 1080.03 70.4921 1083.59 Q72.3208 1087.13 75.9319 1087.13 Q79.5661 1087.13 81.3717 1083.59 Q83.2004 1080.03 83.2004 1072.92 Q83.2004 1065.79 81.3717 1062.25 Q79.5661 1058.68 75.9319 1058.68 M75.9319 1054.98 Q81.742 1054.98 84.7976 1059.59 Q87.8763 1064.17 87.8763 1072.92 Q87.8763 1081.65 84.7976 1086.25 Q81.742 1090.84 75.9319 1090.84 Q70.1217 1090.84 67.043 1086.25 Q63.9875 1081.65 63.9875 1072.92 Q63.9875 1064.17 67.043 1059.59 Q70.1217 1054.98 75.9319 1054.98 Z\" fill=\"#000000\" fill-rule=\"evenodd\" fill-opacity=\"1\" /><path clip-path=\"url(#clip970)\" d=\"M 0 0 M92.9457 1084.29 L97.8299 1084.29 L97.8299 1090.17 L92.9457 1090.17 L92.9457 1084.29 Z\" fill=\"#000000\" fill-rule=\"evenodd\" fill-opacity=\"1\" /><path clip-path=\"url(#clip970)\" d=\"M 0 0 M102.946 1055.61 L121.302 1055.61 L121.302 1059.54 L107.228 1059.54 L107.228 1068.01 Q108.247 1067.67 109.265 1067.5 Q110.284 1067.32 111.302 1067.32 Q117.089 1067.32 120.469 1070.49 Q123.848 1073.66 123.848 1079.08 Q123.848 1084.66 120.376 1087.76 Q116.904 1090.84 110.584 1090.84 Q108.409 1090.84 106.14 1090.47 Q103.895 1090.1 101.487 1089.36 L101.487 1084.66 Q103.571 1085.79 105.793 1086.35 Q108.015 1086.9 110.492 1086.9 Q114.496 1086.9 116.834 1084.79 Q119.172 1082.69 119.172 1079.08 Q119.172 1075.47 116.834 1073.36 Q114.496 1071.25 110.492 1071.25 Q108.617 1071.25 106.742 1071.67 Q104.89 1072.09 102.946 1072.97 L102.946 1055.61 Z\" fill=\"#000000\" fill-rule=\"evenodd\" fill-opacity=\"1\" /><path clip-path=\"url(#clip970)\" d=\"M 0 0 M66.9736 781.267 L74.6124 781.267 L74.6124 754.902 L66.3023 756.568 L66.3023 752.309 L74.5661 750.642 L79.242 750.642 L79.242 781.267 L86.8809 781.267 L86.8809 785.202 L66.9736 785.202 L66.9736 781.267 Z\" fill=\"#000000\" fill-rule=\"evenodd\" fill-opacity=\"1\" /><path clip-path=\"url(#clip970)\" d=\"M 0 0 M91.9503 779.323 L96.8345 779.323 L96.8345 785.202 L91.9503 785.202 L91.9503 779.323 Z\" fill=\"#000000\" fill-rule=\"evenodd\" fill-opacity=\"1\" /><path clip-path=\"url(#clip970)\" d=\"M 0 0 M111.904 753.721 Q108.293 753.721 106.464 757.286 Q104.659 760.827 104.659 767.957 Q104.659 775.063 106.464 778.628 Q108.293 782.17 111.904 782.17 Q115.538 782.17 117.344 778.628 Q119.172 775.063 119.172 767.957 Q119.172 760.827 117.344 757.286 Q115.538 753.721 111.904 753.721 M111.904 750.017 Q117.714 750.017 120.77 754.624 Q123.848 759.207 123.848 767.957 Q123.848 776.684 120.77 781.29 Q117.714 785.874 111.904 785.874 Q106.094 785.874 103.015 781.29 Q99.9595 776.684 99.9595 767.957 Q99.9595 759.207 103.015 754.624 Q106.094 750.017 111.904 750.017 Z\" fill=\"#000000\" fill-rule=\"evenodd\" fill-opacity=\"1\" /><path clip-path=\"url(#clip970)\" d=\"M 0 0 M67.969 476.304 L75.6078 476.304 L75.6078 449.939 L67.2977 451.605 L67.2977 447.346 L75.5615 445.679 L80.2374 445.679 L80.2374 476.304 L87.8763 476.304 L87.8763 480.239 L67.969 480.239 L67.969 476.304 Z\" fill=\"#000000\" fill-rule=\"evenodd\" fill-opacity=\"1\" /><path clip-path=\"url(#clip970)\" d=\"M 0 0 M92.9457 474.36 L97.8299 474.36 L97.8299 480.239 L92.9457 480.239 L92.9457 474.36 Z\" fill=\"#000000\" fill-rule=\"evenodd\" fill-opacity=\"1\" /><path clip-path=\"url(#clip970)\" d=\"M 0 0 M102.946 445.679 L121.302 445.679 L121.302 449.615 L107.228 449.615 L107.228 458.087 Q108.247 457.74 109.265 457.577 Q110.284 457.392 111.302 457.392 Q117.089 457.392 120.469 460.564 Q123.848 463.735 123.848 469.151 Q123.848 474.73 120.376 477.832 Q116.904 480.911 110.584 480.911 Q108.409 480.911 106.14 480.54 Q103.895 480.17 101.487 479.429 L101.487 474.73 Q103.571 475.864 105.793 476.42 Q108.015 476.976 110.492 476.976 Q114.496 476.976 116.834 474.869 Q119.172 472.763 119.172 469.151 Q119.172 465.54 116.834 463.434 Q114.496 461.327 110.492 461.327 Q108.617 461.327 106.742 461.744 Q104.89 462.161 102.946 463.04 L102.946 445.679 Z\" fill=\"#000000\" fill-rule=\"evenodd\" fill-opacity=\"1\" /><path clip-path=\"url(#clip970)\" d=\"M 0 0 M70.5615 171.341 L86.8809 171.341 L86.8809 175.276 L64.9366 175.276 L64.9366 171.341 Q67.5986 168.587 72.1819 163.957 Q76.7883 159.304 77.9689 157.962 Q80.2143 155.439 81.0939 153.703 Q81.9967 151.943 81.9967 150.253 Q81.9967 147.499 80.0522 145.763 Q78.1309 144.027 75.0291 144.027 Q72.83 144.027 70.3763 144.791 Q67.9458 145.554 65.168 147.105 L65.168 142.383 Q67.9921 141.249 70.4458 140.67 Q72.8995 140.091 74.9365 140.091 Q80.3068 140.091 83.5013 142.777 Q86.6957 145.462 86.6957 149.953 Q86.6957 152.082 85.8855 154.003 Q85.0985 155.902 82.992 158.494 Q82.4133 159.165 79.3115 162.383 Q76.2096 165.577 70.5615 171.341 Z\" fill=\"#000000\" fill-rule=\"evenodd\" fill-opacity=\"1\" /><path clip-path=\"url(#clip970)\" d=\"M 0 0 M91.9503 169.397 L96.8345 169.397 L96.8345 175.276 L91.9503 175.276 L91.9503 169.397 Z\" fill=\"#000000\" fill-rule=\"evenodd\" fill-opacity=\"1\" /><path clip-path=\"url(#clip970)\" d=\"M 0 0 M111.904 143.795 Q108.293 143.795 106.464 147.36 Q104.659 150.902 104.659 158.031 Q104.659 165.138 106.464 168.702 Q108.293 172.244 111.904 172.244 Q115.538 172.244 117.344 168.702 Q119.172 165.138 119.172 158.031 Q119.172 150.902 117.344 147.36 Q115.538 143.795 111.904 143.795 M111.904 140.091 Q117.714 140.091 120.77 144.698 Q123.848 149.281 123.848 158.031 Q123.848 166.758 120.77 171.364 Q117.714 175.948 111.904 175.948 Q106.094 175.948 103.015 171.364 Q99.9595 166.758 99.9595 158.031 Q99.9595 149.281 103.015 144.698 Q106.094 140.091 111.904 140.091 Z\" fill=\"#000000\" fill-rule=\"evenodd\" fill-opacity=\"1\" /><circle clip-path=\"url(#clip972)\" cx=\"1577.75\" cy=\"588.814\" r=\"14\" fill=\"#009af9\" fill-rule=\"evenodd\" fill-opacity=\"1\" stroke=\"#000000\" stroke-opacity=\"1\" stroke-width=\"3.2\"/>\n",
       "<circle clip-path=\"url(#clip972)\" cx=\"1934.51\" cy=\"374.939\" r=\"14\" fill=\"#009af9\" fill-rule=\"evenodd\" fill-opacity=\"1\" stroke=\"#000000\" stroke-opacity=\"1\" stroke-width=\"3.2\"/>\n",
       "<circle clip-path=\"url(#clip972)\" cx=\"2005.89\" cy=\"355.189\" r=\"14\" fill=\"#009af9\" fill-rule=\"evenodd\" fill-opacity=\"1\" stroke=\"#000000\" stroke-opacity=\"1\" stroke-width=\"3.2\"/>\n",
       "<circle clip-path=\"url(#clip972)\" cx=\"1817.4\" cy=\"326.587\" r=\"14\" fill=\"#009af9\" fill-rule=\"evenodd\" fill-opacity=\"1\" stroke=\"#000000\" stroke-opacity=\"1\" stroke-width=\"3.2\"/>\n",
       "<circle clip-path=\"url(#clip972)\" cx=\"1644.21\" cy=\"563.068\" r=\"14\" fill=\"#009af9\" fill-rule=\"evenodd\" fill-opacity=\"1\" stroke=\"#000000\" stroke-opacity=\"1\" stroke-width=\"3.2\"/>\n",
       "<circle clip-path=\"url(#clip972)\" cx=\"1085.47\" cy=\"922.104\" r=\"14\" fill=\"#009af9\" fill-rule=\"evenodd\" fill-opacity=\"1\" stroke=\"#000000\" stroke-opacity=\"1\" stroke-width=\"3.2\"/>\n",
       "<circle clip-path=\"url(#clip972)\" cx=\"1438.05\" cy=\"720.121\" r=\"14\" fill=\"#009af9\" fill-rule=\"evenodd\" fill-opacity=\"1\" stroke=\"#000000\" stroke-opacity=\"1\" stroke-width=\"3.2\"/>\n",
       "<circle clip-path=\"url(#clip972)\" cx=\"1405.09\" cy=\"681.533\" r=\"14\" fill=\"#009af9\" fill-rule=\"evenodd\" fill-opacity=\"1\" stroke=\"#000000\" stroke-opacity=\"1\" stroke-width=\"3.2\"/>\n",
       "<circle clip-path=\"url(#clip972)\" cx=\"361.219\" cy=\"1330.29\" r=\"14\" fill=\"#009af9\" fill-rule=\"evenodd\" fill-opacity=\"1\" stroke=\"#000000\" stroke-opacity=\"1\" stroke-width=\"3.2\"/>\n",
       "<circle clip-path=\"url(#clip972)\" cx=\"964.75\" cy=\"899.212\" r=\"14\" fill=\"#009af9\" fill-rule=\"evenodd\" fill-opacity=\"1\" stroke=\"#000000\" stroke-opacity=\"1\" stroke-width=\"3.2\"/>\n",
       "<circle clip-path=\"url(#clip972)\" cx=\"1092.1\" cy=\"837.3\" r=\"14\" fill=\"#009af9\" fill-rule=\"evenodd\" fill-opacity=\"1\" stroke=\"#000000\" stroke-opacity=\"1\" stroke-width=\"3.2\"/>\n",
       "<circle clip-path=\"url(#clip972)\" cx=\"2072.42\" cy=\"281.072\" r=\"14\" fill=\"#009af9\" fill-rule=\"evenodd\" fill-opacity=\"1\" stroke=\"#000000\" stroke-opacity=\"1\" stroke-width=\"3.2\"/>\n",
       "<circle clip-path=\"url(#clip972)\" cx=\"958.96\" cy=\"981.738\" r=\"14\" fill=\"#009af9\" fill-rule=\"evenodd\" fill-opacity=\"1\" stroke=\"#000000\" stroke-opacity=\"1\" stroke-width=\"3.2\"/>\n",
       "<circle clip-path=\"url(#clip972)\" cx=\"1824.46\" cy=\"406.631\" r=\"14\" fill=\"#009af9\" fill-rule=\"evenodd\" fill-opacity=\"1\" stroke=\"#000000\" stroke-opacity=\"1\" stroke-width=\"3.2\"/>\n",
       "<circle clip-path=\"url(#clip972)\" cx=\"620.32\" cy=\"1089.71\" r=\"14\" fill=\"#009af9\" fill-rule=\"evenodd\" fill-opacity=\"1\" stroke=\"#000000\" stroke-opacity=\"1\" stroke-width=\"3.2\"/>\n",
       "<circle clip-path=\"url(#clip972)\" cx=\"1537.06\" cy=\"632.554\" r=\"14\" fill=\"#009af9\" fill-rule=\"evenodd\" fill-opacity=\"1\" stroke=\"#000000\" stroke-opacity=\"1\" stroke-width=\"3.2\"/>\n",
       "<circle clip-path=\"url(#clip972)\" cx=\"1521.63\" cy=\"627.87\" r=\"14\" fill=\"#009af9\" fill-rule=\"evenodd\" fill-opacity=\"1\" stroke=\"#000000\" stroke-opacity=\"1\" stroke-width=\"3.2\"/>\n",
       "<circle clip-path=\"url(#clip972)\" cx=\"2013.81\" cy=\"205.985\" r=\"14\" fill=\"#009af9\" fill-rule=\"evenodd\" fill-opacity=\"1\" stroke=\"#000000\" stroke-opacity=\"1\" stroke-width=\"3.2\"/>\n",
       "<circle clip-path=\"url(#clip972)\" cx=\"992.812\" cy=\"908.82\" r=\"14\" fill=\"#009af9\" fill-rule=\"evenodd\" fill-opacity=\"1\" stroke=\"#000000\" stroke-opacity=\"1\" stroke-width=\"3.2\"/>\n",
       "<circle clip-path=\"url(#clip972)\" cx=\"1123.04\" cy=\"718.011\" r=\"14\" fill=\"#009af9\" fill-rule=\"evenodd\" fill-opacity=\"1\" stroke=\"#000000\" stroke-opacity=\"1\" stroke-width=\"3.2\"/>\n",
       "<circle clip-path=\"url(#clip972)\" cx=\"464.354\" cy=\"1166.47\" r=\"14\" fill=\"#009af9\" fill-rule=\"evenodd\" fill-opacity=\"1\" stroke=\"#000000\" stroke-opacity=\"1\" stroke-width=\"3.2\"/>\n",
       "<circle clip-path=\"url(#clip972)\" cx=\"1135.2\" cy=\"868.285\" r=\"14\" fill=\"#009af9\" fill-rule=\"evenodd\" fill-opacity=\"1\" stroke=\"#000000\" stroke-opacity=\"1\" stroke-width=\"3.2\"/>\n",
       "<circle clip-path=\"url(#clip972)\" cx=\"1291.29\" cy=\"689.836\" r=\"14\" fill=\"#009af9\" fill-rule=\"evenodd\" fill-opacity=\"1\" stroke=\"#000000\" stroke-opacity=\"1\" stroke-width=\"3.2\"/>\n",
       "<circle clip-path=\"url(#clip972)\" cx=\"272.53\" cy=\"1326.68\" r=\"14\" fill=\"#009af9\" fill-rule=\"evenodd\" fill-opacity=\"1\" stroke=\"#000000\" stroke-opacity=\"1\" stroke-width=\"3.2\"/>\n",
       "<circle clip-path=\"url(#clip972)\" cx=\"461.771\" cy=\"1269.85\" r=\"14\" fill=\"#009af9\" fill-rule=\"evenodd\" fill-opacity=\"1\" stroke=\"#000000\" stroke-opacity=\"1\" stroke-width=\"3.2\"/>\n",
       "<circle clip-path=\"url(#clip972)\" cx=\"1910.39\" cy=\"364.147\" r=\"14\" fill=\"#009af9\" fill-rule=\"evenodd\" fill-opacity=\"1\" stroke=\"#000000\" stroke-opacity=\"1\" stroke-width=\"3.2\"/>\n",
       "<circle clip-path=\"url(#clip972)\" cx=\"304.29\" cy=\"1281.26\" r=\"14\" fill=\"#009af9\" fill-rule=\"evenodd\" fill-opacity=\"1\" stroke=\"#000000\" stroke-opacity=\"1\" stroke-width=\"3.2\"/>\n",
       "<circle clip-path=\"url(#clip972)\" cx=\"2151.79\" cy=\"252.9\" r=\"14\" fill=\"#009af9\" fill-rule=\"evenodd\" fill-opacity=\"1\" stroke=\"#000000\" stroke-opacity=\"1\" stroke-width=\"3.2\"/>\n",
       "<circle clip-path=\"url(#clip972)\" cx=\"1535.43\" cy=\"596.567\" r=\"14\" fill=\"#009af9\" fill-rule=\"evenodd\" fill-opacity=\"1\" stroke=\"#000000\" stroke-opacity=\"1\" stroke-width=\"3.2\"/>\n",
       "<circle clip-path=\"url(#clip972)\" cx=\"1588.97\" cy=\"496.72\" r=\"14\" fill=\"#009af9\" fill-rule=\"evenodd\" fill-opacity=\"1\" stroke=\"#000000\" stroke-opacity=\"1\" stroke-width=\"3.2\"/>\n",
       "<circle clip-path=\"url(#clip972)\" cx=\"277.516\" cy=\"1388.49\" r=\"14\" fill=\"#009af9\" fill-rule=\"evenodd\" fill-opacity=\"1\" stroke=\"#000000\" stroke-opacity=\"1\" stroke-width=\"3.2\"/>\n",
       "<circle clip-path=\"url(#clip972)\" cx=\"2215.99\" cy=\"267.987\" r=\"14\" fill=\"#009af9\" fill-rule=\"evenodd\" fill-opacity=\"1\" stroke=\"#000000\" stroke-opacity=\"1\" stroke-width=\"3.2\"/>\n",
       "<circle clip-path=\"url(#clip972)\" cx=\"1136.78\" cy=\"780.924\" r=\"14\" fill=\"#009af9\" fill-rule=\"evenodd\" fill-opacity=\"1\" stroke=\"#000000\" stroke-opacity=\"1\" stroke-width=\"3.2\"/>\n",
       "<circle clip-path=\"url(#clip972)\" cx=\"866.817\" cy=\"973.018\" r=\"14\" fill=\"#009af9\" fill-rule=\"evenodd\" fill-opacity=\"1\" stroke=\"#000000\" stroke-opacity=\"1\" stroke-width=\"3.2\"/>\n",
       "<circle clip-path=\"url(#clip972)\" cx=\"1991.52\" cy=\"393.902\" r=\"14\" fill=\"#009af9\" fill-rule=\"evenodd\" fill-opacity=\"1\" stroke=\"#000000\" stroke-opacity=\"1\" stroke-width=\"3.2\"/>\n",
       "<circle clip-path=\"url(#clip972)\" cx=\"307.127\" cy=\"1338.65\" r=\"14\" fill=\"#009af9\" fill-rule=\"evenodd\" fill-opacity=\"1\" stroke=\"#000000\" stroke-opacity=\"1\" stroke-width=\"3.2\"/>\n",
       "<circle clip-path=\"url(#clip972)\" cx=\"2029.63\" cy=\"296.864\" r=\"14\" fill=\"#009af9\" fill-rule=\"evenodd\" fill-opacity=\"1\" stroke=\"#000000\" stroke-opacity=\"1\" stroke-width=\"3.2\"/>\n",
       "<circle clip-path=\"url(#clip972)\" cx=\"1244.56\" cy=\"857.101\" r=\"14\" fill=\"#009af9\" fill-rule=\"evenodd\" fill-opacity=\"1\" stroke=\"#000000\" stroke-opacity=\"1\" stroke-width=\"3.2\"/>\n",
       "<circle clip-path=\"url(#clip972)\" cx=\"1044.15\" cy=\"1021.39\" r=\"14\" fill=\"#009af9\" fill-rule=\"evenodd\" fill-opacity=\"1\" stroke=\"#000000\" stroke-opacity=\"1\" stroke-width=\"3.2\"/>\n",
       "<circle clip-path=\"url(#clip972)\" cx=\"1106.5\" cy=\"835.308\" r=\"14\" fill=\"#009af9\" fill-rule=\"evenodd\" fill-opacity=\"1\" stroke=\"#000000\" stroke-opacity=\"1\" stroke-width=\"3.2\"/>\n",
       "<circle clip-path=\"url(#clip972)\" cx=\"1980.35\" cy=\"268.587\" r=\"14\" fill=\"#009af9\" fill-rule=\"evenodd\" fill-opacity=\"1\" stroke=\"#000000\" stroke-opacity=\"1\" stroke-width=\"3.2\"/>\n",
       "<circle clip-path=\"url(#clip972)\" cx=\"1690.35\" cy=\"405.56\" r=\"14\" fill=\"#009af9\" fill-rule=\"evenodd\" fill-opacity=\"1\" stroke=\"#000000\" stroke-opacity=\"1\" stroke-width=\"3.2\"/>\n",
       "<circle clip-path=\"url(#clip972)\" cx=\"1141.97\" cy=\"884.961\" r=\"14\" fill=\"#009af9\" fill-rule=\"evenodd\" fill-opacity=\"1\" stroke=\"#000000\" stroke-opacity=\"1\" stroke-width=\"3.2\"/>\n",
       "<circle clip-path=\"url(#clip972)\" cx=\"1656.81\" cy=\"482.023\" r=\"14\" fill=\"#009af9\" fill-rule=\"evenodd\" fill-opacity=\"1\" stroke=\"#000000\" stroke-opacity=\"1\" stroke-width=\"3.2\"/>\n",
       "<circle clip-path=\"url(#clip972)\" cx=\"1591.78\" cy=\"549.117\" r=\"14\" fill=\"#009af9\" fill-rule=\"evenodd\" fill-opacity=\"1\" stroke=\"#000000\" stroke-opacity=\"1\" stroke-width=\"3.2\"/>\n",
       "<circle clip-path=\"url(#clip972)\" cx=\"716.768\" cy=\"1087.23\" r=\"14\" fill=\"#009af9\" fill-rule=\"evenodd\" fill-opacity=\"1\" stroke=\"#000000\" stroke-opacity=\"1\" stroke-width=\"3.2\"/>\n",
       "<circle clip-path=\"url(#clip972)\" cx=\"1033.87\" cy=\"858.341\" r=\"14\" fill=\"#009af9\" fill-rule=\"evenodd\" fill-opacity=\"1\" stroke=\"#000000\" stroke-opacity=\"1\" stroke-width=\"3.2\"/>\n",
       "<circle clip-path=\"url(#clip972)\" cx=\"517.267\" cy=\"1157.42\" r=\"14\" fill=\"#009af9\" fill-rule=\"evenodd\" fill-opacity=\"1\" stroke=\"#000000\" stroke-opacity=\"1\" stroke-width=\"3.2\"/>\n",
       "<circle clip-path=\"url(#clip972)\" cx=\"1947.85\" cy=\"384.991\" r=\"14\" fill=\"#009af9\" fill-rule=\"evenodd\" fill-opacity=\"1\" stroke=\"#000000\" stroke-opacity=\"1\" stroke-width=\"3.2\"/>\n",
       "<circle clip-path=\"url(#clip972)\" cx=\"406.629\" cy=\"1342.02\" r=\"14\" fill=\"#009af9\" fill-rule=\"evenodd\" fill-opacity=\"1\" stroke=\"#000000\" stroke-opacity=\"1\" stroke-width=\"3.2\"/>\n",
       "<circle clip-path=\"url(#clip972)\" cx=\"950.254\" cy=\"1102.47\" r=\"14\" fill=\"#009af9\" fill-rule=\"evenodd\" fill-opacity=\"1\" stroke=\"#000000\" stroke-opacity=\"1\" stroke-width=\"3.2\"/>\n",
       "<circle clip-path=\"url(#clip972)\" cx=\"1540.66\" cy=\"581.868\" r=\"14\" fill=\"#009af9\" fill-rule=\"evenodd\" fill-opacity=\"1\" stroke=\"#000000\" stroke-opacity=\"1\" stroke-width=\"3.2\"/>\n",
       "<circle clip-path=\"url(#clip972)\" cx=\"210.251\" cy=\"1277\" r=\"14\" fill=\"#009af9\" fill-rule=\"evenodd\" fill-opacity=\"1\" stroke=\"#000000\" stroke-opacity=\"1\" stroke-width=\"3.2\"/>\n",
       "<circle clip-path=\"url(#clip972)\" cx=\"2290.35\" cy=\"227.292\" r=\"14\" fill=\"#009af9\" fill-rule=\"evenodd\" fill-opacity=\"1\" stroke=\"#000000\" stroke-opacity=\"1\" stroke-width=\"3.2\"/>\n",
       "<circle clip-path=\"url(#clip972)\" cx=\"2044.49\" cy=\"263.224\" r=\"14\" fill=\"#009af9\" fill-rule=\"evenodd\" fill-opacity=\"1\" stroke=\"#000000\" stroke-opacity=\"1\" stroke-width=\"3.2\"/>\n",
       "<circle clip-path=\"url(#clip972)\" cx=\"856.684\" cy=\"886.122\" r=\"14\" fill=\"#009af9\" fill-rule=\"evenodd\" fill-opacity=\"1\" stroke=\"#000000\" stroke-opacity=\"1\" stroke-width=\"3.2\"/>\n",
       "<circle clip-path=\"url(#clip972)\" cx=\"939.375\" cy=\"937.15\" r=\"14\" fill=\"#009af9\" fill-rule=\"evenodd\" fill-opacity=\"1\" stroke=\"#000000\" stroke-opacity=\"1\" stroke-width=\"3.2\"/>\n",
       "<circle clip-path=\"url(#clip972)\" cx=\"2264.61\" cy=\"104.228\" r=\"14\" fill=\"#009af9\" fill-rule=\"evenodd\" fill-opacity=\"1\" stroke=\"#000000\" stroke-opacity=\"1\" stroke-width=\"3.2\"/>\n",
       "<circle clip-path=\"url(#clip972)\" cx=\"1580.92\" cy=\"597.224\" r=\"14\" fill=\"#009af9\" fill-rule=\"evenodd\" fill-opacity=\"1\" stroke=\"#000000\" stroke-opacity=\"1\" stroke-width=\"3.2\"/>\n",
       "<circle clip-path=\"url(#clip972)\" cx=\"1079.37\" cy=\"881.59\" r=\"14\" fill=\"#009af9\" fill-rule=\"evenodd\" fill-opacity=\"1\" stroke=\"#000000\" stroke-opacity=\"1\" stroke-width=\"3.2\"/>\n",
       "<circle clip-path=\"url(#clip972)\" cx=\"1254.31\" cy=\"766.413\" r=\"14\" fill=\"#009af9\" fill-rule=\"evenodd\" fill-opacity=\"1\" stroke=\"#000000\" stroke-opacity=\"1\" stroke-width=\"3.2\"/>\n",
       "<circle clip-path=\"url(#clip972)\" cx=\"2198.04\" cy=\"147.69\" r=\"14\" fill=\"#009af9\" fill-rule=\"evenodd\" fill-opacity=\"1\" stroke=\"#000000\" stroke-opacity=\"1\" stroke-width=\"3.2\"/>\n",
       "<circle clip-path=\"url(#clip972)\" cx=\"1985.78\" cy=\"296.659\" r=\"14\" fill=\"#009af9\" fill-rule=\"evenodd\" fill-opacity=\"1\" stroke=\"#000000\" stroke-opacity=\"1\" stroke-width=\"3.2\"/>\n",
       "<circle clip-path=\"url(#clip972)\" cx=\"2002.86\" cy=\"286.589\" r=\"14\" fill=\"#009af9\" fill-rule=\"evenodd\" fill-opacity=\"1\" stroke=\"#000000\" stroke-opacity=\"1\" stroke-width=\"3.2\"/>\n",
       "<circle clip-path=\"url(#clip972)\" cx=\"604.969\" cy=\"1024.32\" r=\"14\" fill=\"#009af9\" fill-rule=\"evenodd\" fill-opacity=\"1\" stroke=\"#000000\" stroke-opacity=\"1\" stroke-width=\"3.2\"/>\n",
       "<circle clip-path=\"url(#clip972)\" cx=\"909.57\" cy=\"1031.94\" r=\"14\" fill=\"#009af9\" fill-rule=\"evenodd\" fill-opacity=\"1\" stroke=\"#000000\" stroke-opacity=\"1\" stroke-width=\"3.2\"/>\n",
       "<circle clip-path=\"url(#clip972)\" cx=\"1441.97\" cy=\"758.632\" r=\"14\" fill=\"#009af9\" fill-rule=\"evenodd\" fill-opacity=\"1\" stroke=\"#000000\" stroke-opacity=\"1\" stroke-width=\"3.2\"/>\n",
       "<circle clip-path=\"url(#clip972)\" cx=\"1513.15\" cy=\"604.997\" r=\"14\" fill=\"#009af9\" fill-rule=\"evenodd\" fill-opacity=\"1\" stroke=\"#000000\" stroke-opacity=\"1\" stroke-width=\"3.2\"/>\n",
       "<circle clip-path=\"url(#clip972)\" cx=\"2228.16\" cy=\"142.59\" r=\"14\" fill=\"#009af9\" fill-rule=\"evenodd\" fill-opacity=\"1\" stroke=\"#000000\" stroke-opacity=\"1\" stroke-width=\"3.2\"/>\n",
       "<circle clip-path=\"url(#clip972)\" cx=\"2271.71\" cy=\"135.009\" r=\"14\" fill=\"#009af9\" fill-rule=\"evenodd\" fill-opacity=\"1\" stroke=\"#000000\" stroke-opacity=\"1\" stroke-width=\"3.2\"/>\n",
       "<circle clip-path=\"url(#clip972)\" cx=\"1031.38\" cy=\"947.496\" r=\"14\" fill=\"#009af9\" fill-rule=\"evenodd\" fill-opacity=\"1\" stroke=\"#000000\" stroke-opacity=\"1\" stroke-width=\"3.2\"/>\n",
       "<circle clip-path=\"url(#clip972)\" cx=\"1472.57\" cy=\"721.642\" r=\"14\" fill=\"#009af9\" fill-rule=\"evenodd\" fill-opacity=\"1\" stroke=\"#000000\" stroke-opacity=\"1\" stroke-width=\"3.2\"/>\n",
       "<circle clip-path=\"url(#clip972)\" cx=\"327.781\" cy=\"1281.52\" r=\"14\" fill=\"#009af9\" fill-rule=\"evenodd\" fill-opacity=\"1\" stroke=\"#000000\" stroke-opacity=\"1\" stroke-width=\"3.2\"/>\n",
       "<circle clip-path=\"url(#clip972)\" cx=\"410.578\" cy=\"1220.13\" r=\"14\" fill=\"#009af9\" fill-rule=\"evenodd\" fill-opacity=\"1\" stroke=\"#000000\" stroke-opacity=\"1\" stroke-width=\"3.2\"/>\n",
       "<circle clip-path=\"url(#clip972)\" cx=\"1402.14\" cy=\"741.734\" r=\"14\" fill=\"#009af9\" fill-rule=\"evenodd\" fill-opacity=\"1\" stroke=\"#000000\" stroke-opacity=\"1\" stroke-width=\"3.2\"/>\n",
       "<circle clip-path=\"url(#clip972)\" cx=\"1126.01\" cy=\"883.594\" r=\"14\" fill=\"#009af9\" fill-rule=\"evenodd\" fill-opacity=\"1\" stroke=\"#000000\" stroke-opacity=\"1\" stroke-width=\"3.2\"/>\n",
       "<circle clip-path=\"url(#clip972)\" cx=\"2119.53\" cy=\"171.11\" r=\"14\" fill=\"#009af9\" fill-rule=\"evenodd\" fill-opacity=\"1\" stroke=\"#000000\" stroke-opacity=\"1\" stroke-width=\"3.2\"/>\n",
       "<circle clip-path=\"url(#clip972)\" cx=\"1965.22\" cy=\"383.626\" r=\"14\" fill=\"#009af9\" fill-rule=\"evenodd\" fill-opacity=\"1\" stroke=\"#000000\" stroke-opacity=\"1\" stroke-width=\"3.2\"/>\n",
       "<circle clip-path=\"url(#clip972)\" cx=\"1927.54\" cy=\"471.59\" r=\"14\" fill=\"#009af9\" fill-rule=\"evenodd\" fill-opacity=\"1\" stroke=\"#000000\" stroke-opacity=\"1\" stroke-width=\"3.2\"/>\n",
       "<circle clip-path=\"url(#clip972)\" cx=\"1004.06\" cy=\"971.148\" r=\"14\" fill=\"#009af9\" fill-rule=\"evenodd\" fill-opacity=\"1\" stroke=\"#000000\" stroke-opacity=\"1\" stroke-width=\"3.2\"/>\n",
       "<circle clip-path=\"url(#clip972)\" cx=\"1840.69\" cy=\"402.724\" r=\"14\" fill=\"#009af9\" fill-rule=\"evenodd\" fill-opacity=\"1\" stroke=\"#000000\" stroke-opacity=\"1\" stroke-width=\"3.2\"/>\n",
       "<circle clip-path=\"url(#clip972)\" cx=\"271.779\" cy=\"1445.72\" r=\"14\" fill=\"#009af9\" fill-rule=\"evenodd\" fill-opacity=\"1\" stroke=\"#000000\" stroke-opacity=\"1\" stroke-width=\"3.2\"/>\n",
       "<circle clip-path=\"url(#clip972)\" cx=\"1536.5\" cy=\"617.231\" r=\"14\" fill=\"#009af9\" fill-rule=\"evenodd\" fill-opacity=\"1\" stroke=\"#000000\" stroke-opacity=\"1\" stroke-width=\"3.2\"/>\n",
       "<circle clip-path=\"url(#clip972)\" cx=\"2259.88\" cy=\"87.9763\" r=\"14\" fill=\"#009af9\" fill-rule=\"evenodd\" fill-opacity=\"1\" stroke=\"#000000\" stroke-opacity=\"1\" stroke-width=\"3.2\"/>\n",
       "<circle clip-path=\"url(#clip972)\" cx=\"825.571\" cy=\"1095.95\" r=\"14\" fill=\"#009af9\" fill-rule=\"evenodd\" fill-opacity=\"1\" stroke=\"#000000\" stroke-opacity=\"1\" stroke-width=\"3.2\"/>\n",
       "<circle clip-path=\"url(#clip972)\" cx=\"1031.81\" cy=\"801.776\" r=\"14\" fill=\"#009af9\" fill-rule=\"evenodd\" fill-opacity=\"1\" stroke=\"#000000\" stroke-opacity=\"1\" stroke-width=\"3.2\"/>\n",
       "<circle clip-path=\"url(#clip972)\" cx=\"713.646\" cy=\"1049.48\" r=\"14\" fill=\"#009af9\" fill-rule=\"evenodd\" fill-opacity=\"1\" stroke=\"#000000\" stroke-opacity=\"1\" stroke-width=\"3.2\"/>\n",
       "<circle clip-path=\"url(#clip972)\" cx=\"1436.86\" cy=\"585.344\" r=\"14\" fill=\"#009af9\" fill-rule=\"evenodd\" fill-opacity=\"1\" stroke=\"#000000\" stroke-opacity=\"1\" stroke-width=\"3.2\"/>\n",
       "<circle clip-path=\"url(#clip972)\" cx=\"884.221\" cy=\"949.353\" r=\"14\" fill=\"#009af9\" fill-rule=\"evenodd\" fill-opacity=\"1\" stroke=\"#000000\" stroke-opacity=\"1\" stroke-width=\"3.2\"/>\n",
       "<circle clip-path=\"url(#clip972)\" cx=\"1032.61\" cy=\"990.818\" r=\"14\" fill=\"#009af9\" fill-rule=\"evenodd\" fill-opacity=\"1\" stroke=\"#000000\" stroke-opacity=\"1\" stroke-width=\"3.2\"/>\n",
       "<circle clip-path=\"url(#clip972)\" cx=\"860.8\" cy=\"1041.98\" r=\"14\" fill=\"#009af9\" fill-rule=\"evenodd\" fill-opacity=\"1\" stroke=\"#000000\" stroke-opacity=\"1\" stroke-width=\"3.2\"/>\n",
       "<circle clip-path=\"url(#clip972)\" cx=\"351.949\" cy=\"1308.18\" r=\"14\" fill=\"#009af9\" fill-rule=\"evenodd\" fill-opacity=\"1\" stroke=\"#000000\" stroke-opacity=\"1\" stroke-width=\"3.2\"/>\n",
       "<circle clip-path=\"url(#clip972)\" cx=\"2002.33\" cy=\"269.344\" r=\"14\" fill=\"#009af9\" fill-rule=\"evenodd\" fill-opacity=\"1\" stroke=\"#000000\" stroke-opacity=\"1\" stroke-width=\"3.2\"/>\n",
       "<circle clip-path=\"url(#clip972)\" cx=\"1559.62\" cy=\"602.314\" r=\"14\" fill=\"#009af9\" fill-rule=\"evenodd\" fill-opacity=\"1\" stroke=\"#000000\" stroke-opacity=\"1\" stroke-width=\"3.2\"/>\n",
       "<circle clip-path=\"url(#clip972)\" cx=\"968.3\" cy=\"950.252\" r=\"14\" fill=\"#009af9\" fill-rule=\"evenodd\" fill-opacity=\"1\" stroke=\"#000000\" stroke-opacity=\"1\" stroke-width=\"3.2\"/>\n",
       "<circle clip-path=\"url(#clip972)\" cx=\"1366.4\" cy=\"735.978\" r=\"14\" fill=\"#009af9\" fill-rule=\"evenodd\" fill-opacity=\"1\" stroke=\"#000000\" stroke-opacity=\"1\" stroke-width=\"3.2\"/>\n",
       "<circle clip-path=\"url(#clip972)\" cx=\"1504.58\" cy=\"675.033\" r=\"14\" fill=\"#009af9\" fill-rule=\"evenodd\" fill-opacity=\"1\" stroke=\"#000000\" stroke-opacity=\"1\" stroke-width=\"3.2\"/>\n",
       "<circle clip-path=\"url(#clip972)\" cx=\"546.723\" cy=\"1174.59\" r=\"14\" fill=\"#009af9\" fill-rule=\"evenodd\" fill-opacity=\"1\" stroke=\"#000000\" stroke-opacity=\"1\" stroke-width=\"3.2\"/>\n",
       "<circle clip-path=\"url(#clip972)\" cx=\"1430.67\" cy=\"619.226\" r=\"14\" fill=\"#009af9\" fill-rule=\"evenodd\" fill-opacity=\"1\" stroke=\"#000000\" stroke-opacity=\"1\" stroke-width=\"3.2\"/>\n",
       "<circle clip-path=\"url(#clip972)\" cx=\"1194.45\" cy=\"792.14\" r=\"14\" fill=\"#009af9\" fill-rule=\"evenodd\" fill-opacity=\"1\" stroke=\"#000000\" stroke-opacity=\"1\" stroke-width=\"3.2\"/>\n",
       "<polyline clip-path=\"url(#clip972)\" style=\"stroke:#e26f46; stroke-width:12; stroke-opacity:1; fill:none\" points=\"\n",
       "  -2057.06,2708.38 4557.66,-1181.97 \n",
       "  \"/>\n",
       "<path clip-path=\"url(#clip970)\" d=\"\n",
       "M1989.74 312.204 L2280.76 312.204 L2280.76 130.764 L1989.74 130.764  Z\n",
       "  \" fill=\"#ffffff\" fill-rule=\"evenodd\" fill-opacity=\"1\"/>\n",
       "<polyline clip-path=\"url(#clip970)\" style=\"stroke:#000000; stroke-width:4; stroke-opacity:1; fill:none\" points=\"\n",
       "  1989.74,312.204 2280.76,312.204 2280.76,130.764 1989.74,130.764 1989.74,312.204 \n",
       "  \"/>\n",
       "<circle clip-path=\"url(#clip970)\" cx=\"2097.74\" cy=\"191.244\" r=\"23\" fill=\"#009af9\" fill-rule=\"evenodd\" fill-opacity=\"1\" stroke=\"#000000\" stroke-opacity=\"1\" stroke-width=\"5.12\"/>\n",
       "<path clip-path=\"url(#clip970)\" d=\"M 0 0 M2195.58 210.931 Q2193.77 215.561 2192.06 216.973 Q2190.35 218.385 2187.48 218.385 L2184.08 218.385 L2184.08 214.82 L2186.58 214.82 Q2188.33 214.82 2189.31 213.987 Q2190.28 213.154 2191.46 210.052 L2192.22 208.107 L2181.74 182.598 L2186.25 182.598 L2194.35 202.876 L2202.46 182.598 L2206.97 182.598 L2195.58 210.931 Z\" fill=\"#000000\" fill-rule=\"evenodd\" fill-opacity=\"1\" /><path clip-path=\"url(#clip970)\" d=\"M 0 0 M2212.85 204.589 L2220.49 204.589 L2220.49 178.223 L2212.18 179.89 L2212.18 175.631 L2220.44 173.964 L2225.12 173.964 L2225.12 204.589 L2232.76 204.589 L2232.76 208.524 L2212.85 208.524 L2212.85 204.589 Z\" fill=\"#000000\" fill-rule=\"evenodd\" fill-opacity=\"1\" /><polyline clip-path=\"url(#clip970)\" style=\"stroke:#e26f46; stroke-width:4; stroke-opacity:1; fill:none\" points=\"\n",
       "  2013.74,251.724 2157.74,251.724 \n",
       "  \"/>\n",
       "<path clip-path=\"url(#clip970)\" d=\"M 0 0 M2195.58 271.411 Q2193.77 276.041 2192.06 277.453 Q2190.35 278.865 2187.48 278.865 L2184.08 278.865 L2184.08 275.3 L2186.58 275.3 Q2188.33 275.3 2189.31 274.467 Q2190.28 273.634 2191.46 270.532 L2192.22 268.587 L2181.74 243.078 L2186.25 243.078 L2194.35 263.356 L2202.46 243.078 L2206.97 243.078 L2195.58 271.411 Z\" fill=\"#000000\" fill-rule=\"evenodd\" fill-opacity=\"1\" /><path clip-path=\"url(#clip970)\" d=\"M 0 0 M2216.07 265.069 L2232.39 265.069 L2232.39 269.004 L2210.44 269.004 L2210.44 265.069 Q2213.1 262.314 2217.69 257.685 Q2222.29 253.032 2223.47 251.689 Q2225.72 249.166 2226.6 247.43 Q2227.5 245.671 2227.5 243.981 Q2227.5 241.226 2225.56 239.49 Q2223.64 237.754 2220.53 237.754 Q2218.33 237.754 2215.88 238.518 Q2213.45 239.282 2210.67 240.833 L2210.67 236.111 Q2213.5 234.976 2215.95 234.398 Q2218.4 233.819 2220.44 233.819 Q2225.81 233.819 2229.01 236.504 Q2232.2 239.189 2232.2 243.68 Q2232.2 245.81 2231.39 247.731 Q2230.6 249.629 2228.5 252.222 Q2227.92 252.893 2224.82 256.111 Q2221.71 259.305 2216.07 265.069 Z\" fill=\"#000000\" fill-rule=\"evenodd\" fill-opacity=\"1\" /></svg>\n"
      ]
     },
     "execution_count": 35,
     "metadata": {},
     "output_type": "execute_result"
    }
   ],
   "source": [
    "using Plots\n",
    "@show β = X\\y\n",
    "scatter(X,y)\n",
    "Plots.abline!(β[1],0.0, lw=3) "
   ]
  },
  {
   "cell_type": "code",
   "execution_count": null,
   "metadata": {},
   "outputs": [],
   "source": []
  }
 ],
 "metadata": {
  "kernelspec": {
   "display_name": "Julia 1.0.4",
   "language": "julia",
   "name": "julia-1.0"
  },
  "language_info": {
   "file_extension": ".jl",
   "mimetype": "application/julia",
   "name": "julia",
   "version": "1.0.4"
  }
 },
 "nbformat": 4,
 "nbformat_minor": 4
}
