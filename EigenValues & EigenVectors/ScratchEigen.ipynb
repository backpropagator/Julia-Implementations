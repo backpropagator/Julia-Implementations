{
 "cells": [
  {
   "cell_type": "code",
   "execution_count": null,
   "metadata": {},
   "outputs": [],
   "source": [
    "using LinearAlgebra, Statistics\n",
    "using DataFrames, RDatasets, DataFramesMeta, CategoricalArrays, Query\n",
    "using GLM\n",
    "using Plots"
   ]
  },
  {
   "cell_type": "code",
   "execution_count": null,
   "metadata": {},
   "outputs": [],
   "source": [
    "function EigenVector(A; max_iter = 500)\n",
    "    Q, R = qr(A)\n",
    "    for iter in 1:max_iter\n",
    "        A1 = R*Q\n",
    "        Q, R = qr(A1)\n",
    "    end\n",
    "    \n",
    "    eig_val = diag(R)\n",
    "    eig_vec = Q\n",
    "    \n",
    "    return eig_val, eig_vec\n",
    "end"
   ]
  },
  {
   "cell_type": "code",
   "execution_count": null,
   "metadata": {},
   "outputs": [],
   "source": [
    "@show A = [1 2 3; 4 5 6; 1 1 1]\n",
    "@show val, vec = EigenVector(A);"
   ]
  },
  {
   "cell_type": "code",
   "execution_count": null,
   "metadata": {},
   "outputs": [],
   "source": []
  }
 ],
 "metadata": {
  "kernelspec": {
   "display_name": "Julia 1.0.4",
   "language": "julia",
   "name": "julia-1.0"
  },
  "language_info": {
   "file_extension": ".jl",
   "mimetype": "application/julia",
   "name": "julia",
   "version": "1.0.4"
  }
 },
 "nbformat": 4,
 "nbformat_minor": 4
}
